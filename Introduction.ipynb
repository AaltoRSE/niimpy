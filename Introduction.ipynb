{
 "cells": [
  {
   "cell_type": "markdown",
   "metadata": {},
   "source": [
    "# Niimpy\n",
    "\n",
    "Niimpy allows you to access Koota sqlite databases easily."
   ]
  },
  {
   "cell_type": "markdown",
   "metadata": {},
   "source": [
    "## Demo\n"
   ]
  },
  {
   "cell_type": "code",
   "execution_count": 1,
   "metadata": {},
   "outputs": [],
   "source": [
    "import niimpy"
   ]
  },
  {
   "cell_type": "code",
   "execution_count": 2,
   "metadata": {},
   "outputs": [],
   "source": [
    "%load_ext autoreload\n",
    "%autoreload 1\n",
    "%aimport niimpy"
   ]
  },
  {
   "cell_type": "code",
   "execution_count": 3,
   "metadata": {},
   "outputs": [
    {
     "name": "stderr",
     "output_type": "stream",
     "text": [
      "Detected single-user database\n"
     ]
    }
   ],
   "source": [
    "data = niimpy.open(\"sampledata-singleuser.sqlite3\")"
   ]
  },
  {
   "cell_type": "markdown",
   "metadata": {},
   "source": [
    "This sample data is a single-user database - basically, it doesn't have `user` and `device` columns.  The `user` column will identify which user the data belongs to, and in a multi-user database, you can select a certain user by using a standard `user=` argument.\n",
    "\n",
    "A user can have multiple devices of the same type, and different devices are identified with the `device` column.  Currently there is no advanced support for this."
   ]
  },
  {
   "cell_type": "code",
   "execution_count": 4,
   "metadata": {},
   "outputs": [],
   "source": [
    "# This returns nothing, because this is a single-user database\n",
    "# Otherwise, it would return a list of all user hashes\n",
    "data.users()"
   ]
  },
  {
   "cell_type": "code",
   "execution_count": 5,
   "metadata": {},
   "outputs": [
    {
     "data": {
      "text/plain": [
       "{'AwareScreen'}"
      ]
     },
     "execution_count": 5,
     "metadata": {},
     "output_type": "execute_result"
    }
   ],
   "source": [
    "# The sample data included with niimpy only has AwareScreen data.\n",
    "# You can read about the AWARE Screen sensor here:\n",
    "#   http://www.awareframework.com/screen/\n",
    "data.tables()"
   ]
  },
  {
   "cell_type": "markdown",
   "metadata": {},
   "source": [
    "### Looking at the data"
   ]
  },
  {
   "cell_type": "markdown",
   "metadata": {},
   "source": [
    "You can look at raw data (this is basically the exact columns in the database)"
   ]
  },
  {
   "cell_type": "code",
   "execution_count": 6,
   "metadata": {},
   "outputs": [
    {
     "data": {
      "text/html": [
       "<div>\n",
       "<style scoped>\n",
       "    .dataframe tbody tr th:only-of-type {\n",
       "        vertical-align: middle;\n",
       "    }\n",
       "\n",
       "    .dataframe tbody tr th {\n",
       "        vertical-align: top;\n",
       "    }\n",
       "\n",
       "    .dataframe thead th {\n",
       "        text-align: right;\n",
       "    }\n",
       "</style>\n",
       "<table border=\"1\" class=\"dataframe\">\n",
       "  <thead>\n",
       "    <tr style=\"text-align: right;\">\n",
       "      <th></th>\n",
       "      <th>time</th>\n",
       "      <th>screen_status</th>\n",
       "      <th>datetime</th>\n",
       "    </tr>\n",
       "  </thead>\n",
       "  <tbody>\n",
       "    <tr>\n",
       "      <th>2018-07-09 21:13:17.933000088</th>\n",
       "      <td>1.531171e+09</td>\n",
       "      <td>1</td>\n",
       "      <td>2018-07-09 21:13:17.933000088</td>\n",
       "    </tr>\n",
       "    <tr>\n",
       "      <th>2018-07-09 21:13:28.671999931</th>\n",
       "      <td>1.531171e+09</td>\n",
       "      <td>0</td>\n",
       "      <td>2018-07-09 21:13:28.671999931</td>\n",
       "    </tr>\n",
       "    <tr>\n",
       "      <th>2018-07-09 21:13:28.717999935</th>\n",
       "      <td>1.531171e+09</td>\n",
       "      <td>2</td>\n",
       "      <td>2018-07-09 21:13:28.717999935</td>\n",
       "    </tr>\n",
       "    <tr>\n",
       "      <th>2018-07-10 09:05:05.299000025</th>\n",
       "      <td>1.531214e+09</td>\n",
       "      <td>1</td>\n",
       "      <td>2018-07-10 09:05:05.299000025</td>\n",
       "    </tr>\n",
       "    <tr>\n",
       "      <th>2018-07-10 09:05:09.782999992</th>\n",
       "      <td>1.531214e+09</td>\n",
       "      <td>0</td>\n",
       "      <td>2018-07-10 09:05:09.782999992</td>\n",
       "    </tr>\n",
       "  </tbody>\n",
       "</table>\n",
       "</div>"
      ],
      "text/plain": [
       "                                       time screen_status  \\\n",
       "2018-07-09 21:13:17.933000088  1.531171e+09             1   \n",
       "2018-07-09 21:13:28.671999931  1.531171e+09             0   \n",
       "2018-07-09 21:13:28.717999935  1.531171e+09             2   \n",
       "2018-07-10 09:05:05.299000025  1.531214e+09             1   \n",
       "2018-07-10 09:05:09.782999992  1.531214e+09             0   \n",
       "\n",
       "                                                   datetime  \n",
       "2018-07-09 21:13:17.933000088 2018-07-09 21:13:17.933000088  \n",
       "2018-07-09 21:13:28.671999931 2018-07-09 21:13:28.671999931  \n",
       "2018-07-09 21:13:28.717999935 2018-07-09 21:13:28.717999935  \n",
       "2018-07-10 09:05:05.299000025 2018-07-10 09:05:05.299000025  \n",
       "2018-07-10 09:05:09.782999992 2018-07-10 09:05:09.782999992  "
      ]
     },
     "execution_count": 6,
     "metadata": {},
     "output_type": "execute_result"
    }
   ],
   "source": [
    "screen = data.raw('AwareScreen', None)\n",
    "# This is a pandas DataFrame\n",
    "screen.head()"
   ]
  },
  {
   "cell_type": "markdown",
   "metadata": {},
   "source": [
    "Get the first timestamp of the data"
   ]
  },
  {
   "cell_type": "code",
   "execution_count": 7,
   "metadata": {},
   "outputs": [
    {
     "data": {
      "text/plain": [
       "Timestamp('2018-07-09 21:13:17.933000088')"
      ]
     },
     "execution_count": 7,
     "metadata": {},
     "output_type": "execute_result"
    }
   ],
   "source": [
    "data.first('AwareScreen', None)['datetime'][0]"
   ]
  },
  {
   "cell_type": "markdown",
   "metadata": {},
   "source": [
    "Let's use this chance to discuss some common column names:\n",
    "* `time` always referrs to a unixtime\n",
    "* `datetime` always referrs to a `pandas.Timestamp`\n",
    "* the dataframe index is usually pandas timestamps if appropriate - same as `datetime`."
   ]
  }
 ],
 "metadata": {
  "kernelspec": {
   "display_name": "Python 3/anaconda3/latest",
   "language": "python",
   "name": "python3"
  },
  "language_info": {
   "codemirror_mode": {
    "name": "ipython",
    "version": 3
   },
   "file_extension": ".py",
   "mimetype": "text/x-python",
   "name": "python",
   "nbconvert_exporter": "python",
   "pygments_lexer": "ipython3",
   "version": "3.6.6"
  }
 },
 "nbformat": 4,
 "nbformat_minor": 2
}
